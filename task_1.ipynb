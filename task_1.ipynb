{
 "cells": [
  {
   "cell_type": "code",
   "execution_count": 2,
   "metadata": {},
   "outputs": [],
   "source": [
    "import pandas as pd\n",
    "import numpy as np\n",
    "import matplotlib.pyplot as plt\n",
    "from sklearn.model_selection import train_test_split"
   ]
  },
  {
   "cell_type": "code",
   "execution_count": 3,
   "metadata": {},
   "outputs": [],
   "source": [
    "data = pd.read_csv('weather_data.csv')"
   ]
  },
  {
   "cell_type": "code",
   "execution_count": 4,
   "metadata": {},
   "outputs": [
    {
     "data": {
      "text/html": [
       "<div>\n",
       "<style scoped>\n",
       "    .dataframe tbody tr th:only-of-type {\n",
       "        vertical-align: middle;\n",
       "    }\n",
       "\n",
       "    .dataframe tbody tr th {\n",
       "        vertical-align: top;\n",
       "    }\n",
       "\n",
       "    .dataframe thead th {\n",
       "        text-align: right;\n",
       "    }\n",
       "</style>\n",
       "<table border=\"1\" class=\"dataframe\">\n",
       "  <thead>\n",
       "    <tr style=\"text-align: right;\">\n",
       "      <th></th>\n",
       "      <th>date</th>\n",
       "      <th>avg_temperature</th>\n",
       "      <th>humidity</th>\n",
       "      <th>avg_wind_speed</th>\n",
       "      <th>rain_or_not</th>\n",
       "      <th>cloud_cover</th>\n",
       "      <th>pressure</th>\n",
       "    </tr>\n",
       "  </thead>\n",
       "  <tbody>\n",
       "    <tr>\n",
       "      <th>0</th>\n",
       "      <td>2023-01-01</td>\n",
       "      <td>23.745401</td>\n",
       "      <td>46.140905</td>\n",
       "      <td>7.845981</td>\n",
       "      <td>Rain</td>\n",
       "      <td>20.851051</td>\n",
       "      <td>992.965681</td>\n",
       "    </tr>\n",
       "    <tr>\n",
       "      <th>1</th>\n",
       "      <td>2023-01-02</td>\n",
       "      <td>30.030503</td>\n",
       "      <td>59.876587</td>\n",
       "      <td>5.382457</td>\n",
       "      <td>Rain</td>\n",
       "      <td>93.059521</td>\n",
       "      <td>1037.273025</td>\n",
       "    </tr>\n",
       "    <tr>\n",
       "      <th>2</th>\n",
       "      <td>2023-01-03</td>\n",
       "      <td>28.365224</td>\n",
       "      <td>51.464618</td>\n",
       "      <td>13.158008</td>\n",
       "      <td>Rain</td>\n",
       "      <td>11.636640</td>\n",
       "      <td>1034.193357</td>\n",
       "    </tr>\n",
       "    <tr>\n",
       "      <th>3</th>\n",
       "      <td>2023-01-04</td>\n",
       "      <td>27.550929</td>\n",
       "      <td>53.103799</td>\n",
       "      <td>5.886677</td>\n",
       "      <td>Rain</td>\n",
       "      <td>81.744971</td>\n",
       "      <td>968.610142</td>\n",
       "    </tr>\n",
       "    <tr>\n",
       "      <th>4</th>\n",
       "      <td>2023-01-05</td>\n",
       "      <td>23.639303</td>\n",
       "      <td>57.826186</td>\n",
       "      <td>12.248992</td>\n",
       "      <td>Rain</td>\n",
       "      <td>38.062329</td>\n",
       "      <td>1030.264331</td>\n",
       "    </tr>\n",
       "    <tr>\n",
       "      <th>...</th>\n",
       "      <td>...</td>\n",
       "      <td>...</td>\n",
       "      <td>...</td>\n",
       "      <td>...</td>\n",
       "      <td>...</td>\n",
       "      <td>...</td>\n",
       "      <td>...</td>\n",
       "    </tr>\n",
       "    <tr>\n",
       "      <th>306</th>\n",
       "      <td>2023-11-03</td>\n",
       "      <td>22.072834</td>\n",
       "      <td>37.756910</td>\n",
       "      <td>4.729355</td>\n",
       "      <td>No Rain</td>\n",
       "      <td>27.307081</td>\n",
       "      <td>954.564875</td>\n",
       "    </tr>\n",
       "    <tr>\n",
       "      <th>307</th>\n",
       "      <td>2023-11-04</td>\n",
       "      <td>19.645885</td>\n",
       "      <td>42.190604</td>\n",
       "      <td>8.092369</td>\n",
       "      <td>No Rain</td>\n",
       "      <td>51.807877</td>\n",
       "      <td>964.002410</td>\n",
       "    </tr>\n",
       "    <tr>\n",
       "      <th>308</th>\n",
       "      <td>2023-11-05</td>\n",
       "      <td>23.884496</td>\n",
       "      <td>36.205508</td>\n",
       "      <td>11.860847</td>\n",
       "      <td>Rain</td>\n",
       "      <td>29.872557</td>\n",
       "      <td>977.681431</td>\n",
       "    </tr>\n",
       "    <tr>\n",
       "      <th>309</th>\n",
       "      <td>2023-11-06</td>\n",
       "      <td>18.168418</td>\n",
       "      <td>34.785000</td>\n",
       "      <td>4.781288</td>\n",
       "      <td>No Rain</td>\n",
       "      <td>94.067925</td>\n",
       "      <td>1047.153269</td>\n",
       "    </tr>\n",
       "    <tr>\n",
       "      <th>310</th>\n",
       "      <td>2023-11-07</td>\n",
       "      <td>19.389714</td>\n",
       "      <td>37.717416</td>\n",
       "      <td>9.388371</td>\n",
       "      <td>No Rain</td>\n",
       "      <td>25.929676</td>\n",
       "      <td>983.134701</td>\n",
       "    </tr>\n",
       "  </tbody>\n",
       "</table>\n",
       "<p>311 rows × 7 columns</p>\n",
       "</div>"
      ],
      "text/plain": [
       "           date  avg_temperature   humidity  avg_wind_speed rain_or_not  \\\n",
       "0    2023-01-01        23.745401  46.140905        7.845981        Rain   \n",
       "1    2023-01-02        30.030503  59.876587        5.382457        Rain   \n",
       "2    2023-01-03        28.365224  51.464618       13.158008        Rain   \n",
       "3    2023-01-04        27.550929  53.103799        5.886677        Rain   \n",
       "4    2023-01-05        23.639303  57.826186       12.248992        Rain   \n",
       "..          ...              ...        ...             ...         ...   \n",
       "306  2023-11-03        22.072834  37.756910        4.729355     No Rain   \n",
       "307  2023-11-04        19.645885  42.190604        8.092369     No Rain   \n",
       "308  2023-11-05        23.884496  36.205508       11.860847        Rain   \n",
       "309  2023-11-06        18.168418  34.785000        4.781288     No Rain   \n",
       "310  2023-11-07        19.389714  37.717416        9.388371     No Rain   \n",
       "\n",
       "     cloud_cover     pressure  \n",
       "0      20.851051   992.965681  \n",
       "1      93.059521  1037.273025  \n",
       "2      11.636640  1034.193357  \n",
       "3      81.744971   968.610142  \n",
       "4      38.062329  1030.264331  \n",
       "..           ...          ...  \n",
       "306    27.307081   954.564875  \n",
       "307    51.807877   964.002410  \n",
       "308    29.872557   977.681431  \n",
       "309    94.067925  1047.153269  \n",
       "310    25.929676   983.134701  \n",
       "\n",
       "[311 rows x 7 columns]"
      ]
     },
     "execution_count": 4,
     "metadata": {},
     "output_type": "execute_result"
    }
   ],
   "source": [
    "data"
   ]
  },
  {
   "cell_type": "code",
   "execution_count": 5,
   "metadata": {},
   "outputs": [],
   "source": [
    "# Encode Rain as 1 and No Rain as 0\n",
    "data['rain_or_not'] = data['rain_or_not'].apply(lambda x: 1 if x == 'Rain' else 0)"
   ]
  },
  {
   "cell_type": "code",
   "execution_count": 6,
   "metadata": {},
   "outputs": [
    {
     "data": {
      "text/html": [
       "<div>\n",
       "<style scoped>\n",
       "    .dataframe tbody tr th:only-of-type {\n",
       "        vertical-align: middle;\n",
       "    }\n",
       "\n",
       "    .dataframe tbody tr th {\n",
       "        vertical-align: top;\n",
       "    }\n",
       "\n",
       "    .dataframe thead th {\n",
       "        text-align: right;\n",
       "    }\n",
       "</style>\n",
       "<table border=\"1\" class=\"dataframe\">\n",
       "  <thead>\n",
       "    <tr style=\"text-align: right;\">\n",
       "      <th></th>\n",
       "      <th>date</th>\n",
       "      <th>avg_temperature</th>\n",
       "      <th>humidity</th>\n",
       "      <th>avg_wind_speed</th>\n",
       "      <th>rain_or_not</th>\n",
       "      <th>cloud_cover</th>\n",
       "      <th>pressure</th>\n",
       "    </tr>\n",
       "  </thead>\n",
       "  <tbody>\n",
       "    <tr>\n",
       "      <th>0</th>\n",
       "      <td>2023-01-01</td>\n",
       "      <td>23.745401</td>\n",
       "      <td>46.140905</td>\n",
       "      <td>7.845981</td>\n",
       "      <td>1</td>\n",
       "      <td>20.851051</td>\n",
       "      <td>992.965681</td>\n",
       "    </tr>\n",
       "    <tr>\n",
       "      <th>1</th>\n",
       "      <td>2023-01-02</td>\n",
       "      <td>30.030503</td>\n",
       "      <td>59.876587</td>\n",
       "      <td>5.382457</td>\n",
       "      <td>1</td>\n",
       "      <td>93.059521</td>\n",
       "      <td>1037.273025</td>\n",
       "    </tr>\n",
       "    <tr>\n",
       "      <th>2</th>\n",
       "      <td>2023-01-03</td>\n",
       "      <td>28.365224</td>\n",
       "      <td>51.464618</td>\n",
       "      <td>13.158008</td>\n",
       "      <td>1</td>\n",
       "      <td>11.636640</td>\n",
       "      <td>1034.193357</td>\n",
       "    </tr>\n",
       "    <tr>\n",
       "      <th>3</th>\n",
       "      <td>2023-01-04</td>\n",
       "      <td>27.550929</td>\n",
       "      <td>53.103799</td>\n",
       "      <td>5.886677</td>\n",
       "      <td>1</td>\n",
       "      <td>81.744971</td>\n",
       "      <td>968.610142</td>\n",
       "    </tr>\n",
       "    <tr>\n",
       "      <th>4</th>\n",
       "      <td>2023-01-05</td>\n",
       "      <td>23.639303</td>\n",
       "      <td>57.826186</td>\n",
       "      <td>12.248992</td>\n",
       "      <td>1</td>\n",
       "      <td>38.062329</td>\n",
       "      <td>1030.264331</td>\n",
       "    </tr>\n",
       "    <tr>\n",
       "      <th>...</th>\n",
       "      <td>...</td>\n",
       "      <td>...</td>\n",
       "      <td>...</td>\n",
       "      <td>...</td>\n",
       "      <td>...</td>\n",
       "      <td>...</td>\n",
       "      <td>...</td>\n",
       "    </tr>\n",
       "    <tr>\n",
       "      <th>306</th>\n",
       "      <td>2023-11-03</td>\n",
       "      <td>22.072834</td>\n",
       "      <td>37.756910</td>\n",
       "      <td>4.729355</td>\n",
       "      <td>0</td>\n",
       "      <td>27.307081</td>\n",
       "      <td>954.564875</td>\n",
       "    </tr>\n",
       "    <tr>\n",
       "      <th>307</th>\n",
       "      <td>2023-11-04</td>\n",
       "      <td>19.645885</td>\n",
       "      <td>42.190604</td>\n",
       "      <td>8.092369</td>\n",
       "      <td>0</td>\n",
       "      <td>51.807877</td>\n",
       "      <td>964.002410</td>\n",
       "    </tr>\n",
       "    <tr>\n",
       "      <th>308</th>\n",
       "      <td>2023-11-05</td>\n",
       "      <td>23.884496</td>\n",
       "      <td>36.205508</td>\n",
       "      <td>11.860847</td>\n",
       "      <td>1</td>\n",
       "      <td>29.872557</td>\n",
       "      <td>977.681431</td>\n",
       "    </tr>\n",
       "    <tr>\n",
       "      <th>309</th>\n",
       "      <td>2023-11-06</td>\n",
       "      <td>18.168418</td>\n",
       "      <td>34.785000</td>\n",
       "      <td>4.781288</td>\n",
       "      <td>0</td>\n",
       "      <td>94.067925</td>\n",
       "      <td>1047.153269</td>\n",
       "    </tr>\n",
       "    <tr>\n",
       "      <th>310</th>\n",
       "      <td>2023-11-07</td>\n",
       "      <td>19.389714</td>\n",
       "      <td>37.717416</td>\n",
       "      <td>9.388371</td>\n",
       "      <td>0</td>\n",
       "      <td>25.929676</td>\n",
       "      <td>983.134701</td>\n",
       "    </tr>\n",
       "  </tbody>\n",
       "</table>\n",
       "<p>311 rows × 7 columns</p>\n",
       "</div>"
      ],
      "text/plain": [
       "           date  avg_temperature   humidity  avg_wind_speed  rain_or_not  \\\n",
       "0    2023-01-01        23.745401  46.140905        7.845981            1   \n",
       "1    2023-01-02        30.030503  59.876587        5.382457            1   \n",
       "2    2023-01-03        28.365224  51.464618       13.158008            1   \n",
       "3    2023-01-04        27.550929  53.103799        5.886677            1   \n",
       "4    2023-01-05        23.639303  57.826186       12.248992            1   \n",
       "..          ...              ...        ...             ...          ...   \n",
       "306  2023-11-03        22.072834  37.756910        4.729355            0   \n",
       "307  2023-11-04        19.645885  42.190604        8.092369            0   \n",
       "308  2023-11-05        23.884496  36.205508       11.860847            1   \n",
       "309  2023-11-06        18.168418  34.785000        4.781288            0   \n",
       "310  2023-11-07        19.389714  37.717416        9.388371            0   \n",
       "\n",
       "     cloud_cover     pressure  \n",
       "0      20.851051   992.965681  \n",
       "1      93.059521  1037.273025  \n",
       "2      11.636640  1034.193357  \n",
       "3      81.744971   968.610142  \n",
       "4      38.062329  1030.264331  \n",
       "..           ...          ...  \n",
       "306    27.307081   954.564875  \n",
       "307    51.807877   964.002410  \n",
       "308    29.872557   977.681431  \n",
       "309    94.067925  1047.153269  \n",
       "310    25.929676   983.134701  \n",
       "\n",
       "[311 rows x 7 columns]"
      ]
     },
     "execution_count": 6,
     "metadata": {},
     "output_type": "execute_result"
    }
   ],
   "source": [
    "data"
   ]
  },
  {
   "cell_type": "code",
   "execution_count": 7,
   "metadata": {},
   "outputs": [],
   "source": [
    "# Creating a copy of the data\n",
    "data_copy = data.copy()"
   ]
  },
  {
   "cell_type": "code",
   "execution_count": 8,
   "metadata": {},
   "outputs": [
    {
     "data": {
      "text/html": [
       "<div>\n",
       "<style scoped>\n",
       "    .dataframe tbody tr th:only-of-type {\n",
       "        vertical-align: middle;\n",
       "    }\n",
       "\n",
       "    .dataframe tbody tr th {\n",
       "        vertical-align: top;\n",
       "    }\n",
       "\n",
       "    .dataframe thead th {\n",
       "        text-align: right;\n",
       "    }\n",
       "</style>\n",
       "<table border=\"1\" class=\"dataframe\">\n",
       "  <thead>\n",
       "    <tr style=\"text-align: right;\">\n",
       "      <th></th>\n",
       "      <th>date</th>\n",
       "      <th>avg_temperature</th>\n",
       "      <th>humidity</th>\n",
       "      <th>avg_wind_speed</th>\n",
       "      <th>rain_or_not</th>\n",
       "      <th>cloud_cover</th>\n",
       "      <th>pressure</th>\n",
       "    </tr>\n",
       "  </thead>\n",
       "  <tbody>\n",
       "    <tr>\n",
       "      <th>0</th>\n",
       "      <td>2023-01-01</td>\n",
       "      <td>23.745401</td>\n",
       "      <td>46.140905</td>\n",
       "      <td>7.845981</td>\n",
       "      <td>1</td>\n",
       "      <td>20.851051</td>\n",
       "      <td>992.965681</td>\n",
       "    </tr>\n",
       "    <tr>\n",
       "      <th>1</th>\n",
       "      <td>2023-01-02</td>\n",
       "      <td>30.030503</td>\n",
       "      <td>59.876587</td>\n",
       "      <td>5.382457</td>\n",
       "      <td>1</td>\n",
       "      <td>93.059521</td>\n",
       "      <td>1037.273025</td>\n",
       "    </tr>\n",
       "    <tr>\n",
       "      <th>2</th>\n",
       "      <td>2023-01-03</td>\n",
       "      <td>28.365224</td>\n",
       "      <td>51.464618</td>\n",
       "      <td>13.158008</td>\n",
       "      <td>1</td>\n",
       "      <td>11.636640</td>\n",
       "      <td>1034.193357</td>\n",
       "    </tr>\n",
       "    <tr>\n",
       "      <th>3</th>\n",
       "      <td>2023-01-04</td>\n",
       "      <td>27.550929</td>\n",
       "      <td>53.103799</td>\n",
       "      <td>5.886677</td>\n",
       "      <td>1</td>\n",
       "      <td>81.744971</td>\n",
       "      <td>968.610142</td>\n",
       "    </tr>\n",
       "    <tr>\n",
       "      <th>4</th>\n",
       "      <td>2023-01-05</td>\n",
       "      <td>23.639303</td>\n",
       "      <td>57.826186</td>\n",
       "      <td>12.248992</td>\n",
       "      <td>1</td>\n",
       "      <td>38.062329</td>\n",
       "      <td>1030.264331</td>\n",
       "    </tr>\n",
       "    <tr>\n",
       "      <th>...</th>\n",
       "      <td>...</td>\n",
       "      <td>...</td>\n",
       "      <td>...</td>\n",
       "      <td>...</td>\n",
       "      <td>...</td>\n",
       "      <td>...</td>\n",
       "      <td>...</td>\n",
       "    </tr>\n",
       "    <tr>\n",
       "      <th>306</th>\n",
       "      <td>2023-11-03</td>\n",
       "      <td>22.072834</td>\n",
       "      <td>37.756910</td>\n",
       "      <td>4.729355</td>\n",
       "      <td>0</td>\n",
       "      <td>27.307081</td>\n",
       "      <td>954.564875</td>\n",
       "    </tr>\n",
       "    <tr>\n",
       "      <th>307</th>\n",
       "      <td>2023-11-04</td>\n",
       "      <td>19.645885</td>\n",
       "      <td>42.190604</td>\n",
       "      <td>8.092369</td>\n",
       "      <td>0</td>\n",
       "      <td>51.807877</td>\n",
       "      <td>964.002410</td>\n",
       "    </tr>\n",
       "    <tr>\n",
       "      <th>308</th>\n",
       "      <td>2023-11-05</td>\n",
       "      <td>23.884496</td>\n",
       "      <td>36.205508</td>\n",
       "      <td>11.860847</td>\n",
       "      <td>1</td>\n",
       "      <td>29.872557</td>\n",
       "      <td>977.681431</td>\n",
       "    </tr>\n",
       "    <tr>\n",
       "      <th>309</th>\n",
       "      <td>2023-11-06</td>\n",
       "      <td>18.168418</td>\n",
       "      <td>34.785000</td>\n",
       "      <td>4.781288</td>\n",
       "      <td>0</td>\n",
       "      <td>94.067925</td>\n",
       "      <td>1047.153269</td>\n",
       "    </tr>\n",
       "    <tr>\n",
       "      <th>310</th>\n",
       "      <td>2023-11-07</td>\n",
       "      <td>19.389714</td>\n",
       "      <td>37.717416</td>\n",
       "      <td>9.388371</td>\n",
       "      <td>0</td>\n",
       "      <td>25.929676</td>\n",
       "      <td>983.134701</td>\n",
       "    </tr>\n",
       "  </tbody>\n",
       "</table>\n",
       "<p>311 rows × 7 columns</p>\n",
       "</div>"
      ],
      "text/plain": [
       "           date  avg_temperature   humidity  avg_wind_speed  rain_or_not  \\\n",
       "0    2023-01-01        23.745401  46.140905        7.845981            1   \n",
       "1    2023-01-02        30.030503  59.876587        5.382457            1   \n",
       "2    2023-01-03        28.365224  51.464618       13.158008            1   \n",
       "3    2023-01-04        27.550929  53.103799        5.886677            1   \n",
       "4    2023-01-05        23.639303  57.826186       12.248992            1   \n",
       "..          ...              ...        ...             ...          ...   \n",
       "306  2023-11-03        22.072834  37.756910        4.729355            0   \n",
       "307  2023-11-04        19.645885  42.190604        8.092369            0   \n",
       "308  2023-11-05        23.884496  36.205508       11.860847            1   \n",
       "309  2023-11-06        18.168418  34.785000        4.781288            0   \n",
       "310  2023-11-07        19.389714  37.717416        9.388371            0   \n",
       "\n",
       "     cloud_cover     pressure  \n",
       "0      20.851051   992.965681  \n",
       "1      93.059521  1037.273025  \n",
       "2      11.636640  1034.193357  \n",
       "3      81.744971   968.610142  \n",
       "4      38.062329  1030.264331  \n",
       "..           ...          ...  \n",
       "306    27.307081   954.564875  \n",
       "307    51.807877   964.002410  \n",
       "308    29.872557   977.681431  \n",
       "309    94.067925  1047.153269  \n",
       "310    25.929676   983.134701  \n",
       "\n",
       "[311 rows x 7 columns]"
      ]
     },
     "execution_count": 8,
     "metadata": {},
     "output_type": "execute_result"
    }
   ],
   "source": [
    "data_copy"
   ]
  },
  {
   "cell_type": "markdown",
   "metadata": {},
   "source": [
    "# Correlation Analysis"
   ]
  },
  {
   "cell_type": "code",
   "execution_count": 9,
   "metadata": {},
   "outputs": [],
   "source": [
    "# Dropping the date column\n",
    "data_copy.drop('date', axis=1, inplace=True)\n"
   ]
  },
  {
   "cell_type": "code",
   "execution_count": 10,
   "metadata": {},
   "outputs": [
    {
     "data": {
      "text/plain": [
       "(311, 6)"
      ]
     },
     "execution_count": 10,
     "metadata": {},
     "output_type": "execute_result"
    }
   ],
   "source": [
    "data_copy.shape"
   ]
  },
  {
   "cell_type": "code",
   "execution_count": 11,
   "metadata": {},
   "outputs": [],
   "source": [
    "# Dropping rows with missing values\n",
    "data_copy.dropna(inplace=True)"
   ]
  },
  {
   "cell_type": "code",
   "execution_count": 12,
   "metadata": {},
   "outputs": [
    {
     "data": {
      "text/plain": [
       "(296, 6)"
      ]
     },
     "execution_count": 12,
     "metadata": {},
     "output_type": "execute_result"
    }
   ],
   "source": [
    "data_copy.shape"
   ]
  },
  {
   "cell_type": "code",
   "execution_count": 13,
   "metadata": {},
   "outputs": [
    {
     "data": {
      "text/html": [
       "<div>\n",
       "<style scoped>\n",
       "    .dataframe tbody tr th:only-of-type {\n",
       "        vertical-align: middle;\n",
       "    }\n",
       "\n",
       "    .dataframe tbody tr th {\n",
       "        vertical-align: top;\n",
       "    }\n",
       "\n",
       "    .dataframe thead th {\n",
       "        text-align: right;\n",
       "    }\n",
       "</style>\n",
       "<table border=\"1\" class=\"dataframe\">\n",
       "  <thead>\n",
       "    <tr style=\"text-align: right;\">\n",
       "      <th></th>\n",
       "      <th>avg_temperature</th>\n",
       "      <th>humidity</th>\n",
       "      <th>avg_wind_speed</th>\n",
       "      <th>rain_or_not</th>\n",
       "      <th>cloud_cover</th>\n",
       "      <th>pressure</th>\n",
       "    </tr>\n",
       "  </thead>\n",
       "  <tbody>\n",
       "    <tr>\n",
       "      <th>avg_temperature</th>\n",
       "      <td>1.000000</td>\n",
       "      <td>0.902001</td>\n",
       "      <td>0.007954</td>\n",
       "      <td>0.302663</td>\n",
       "      <td>-0.000502</td>\n",
       "      <td>-0.011844</td>\n",
       "    </tr>\n",
       "    <tr>\n",
       "      <th>humidity</th>\n",
       "      <td>0.902001</td>\n",
       "      <td>1.000000</td>\n",
       "      <td>-0.006393</td>\n",
       "      <td>0.330335</td>\n",
       "      <td>-0.064619</td>\n",
       "      <td>0.017740</td>\n",
       "    </tr>\n",
       "    <tr>\n",
       "      <th>avg_wind_speed</th>\n",
       "      <td>0.007954</td>\n",
       "      <td>-0.006393</td>\n",
       "      <td>1.000000</td>\n",
       "      <td>0.129044</td>\n",
       "      <td>-0.005475</td>\n",
       "      <td>-0.038578</td>\n",
       "    </tr>\n",
       "    <tr>\n",
       "      <th>rain_or_not</th>\n",
       "      <td>0.302663</td>\n",
       "      <td>0.330335</td>\n",
       "      <td>0.129044</td>\n",
       "      <td>1.000000</td>\n",
       "      <td>-0.035014</td>\n",
       "      <td>0.082347</td>\n",
       "    </tr>\n",
       "    <tr>\n",
       "      <th>cloud_cover</th>\n",
       "      <td>-0.000502</td>\n",
       "      <td>-0.064619</td>\n",
       "      <td>-0.005475</td>\n",
       "      <td>-0.035014</td>\n",
       "      <td>1.000000</td>\n",
       "      <td>-0.014923</td>\n",
       "    </tr>\n",
       "    <tr>\n",
       "      <th>pressure</th>\n",
       "      <td>-0.011844</td>\n",
       "      <td>0.017740</td>\n",
       "      <td>-0.038578</td>\n",
       "      <td>0.082347</td>\n",
       "      <td>-0.014923</td>\n",
       "      <td>1.000000</td>\n",
       "    </tr>\n",
       "  </tbody>\n",
       "</table>\n",
       "</div>"
      ],
      "text/plain": [
       "                 avg_temperature  humidity  avg_wind_speed  rain_or_not  \\\n",
       "avg_temperature         1.000000  0.902001        0.007954     0.302663   \n",
       "humidity                0.902001  1.000000       -0.006393     0.330335   \n",
       "avg_wind_speed          0.007954 -0.006393        1.000000     0.129044   \n",
       "rain_or_not             0.302663  0.330335        0.129044     1.000000   \n",
       "cloud_cover            -0.000502 -0.064619       -0.005475    -0.035014   \n",
       "pressure               -0.011844  0.017740       -0.038578     0.082347   \n",
       "\n",
       "                 cloud_cover  pressure  \n",
       "avg_temperature    -0.000502 -0.011844  \n",
       "humidity           -0.064619  0.017740  \n",
       "avg_wind_speed     -0.005475 -0.038578  \n",
       "rain_or_not        -0.035014  0.082347  \n",
       "cloud_cover         1.000000 -0.014923  \n",
       "pressure           -0.014923  1.000000  "
      ]
     },
     "execution_count": 13,
     "metadata": {},
     "output_type": "execute_result"
    }
   ],
   "source": [
    "# Create correlation matrix\n",
    "corr_matrix = data_copy.corr()\n",
    "\n",
    "corr_matrix"
   ]
  },
  {
   "cell_type": "code",
   "execution_count": 14,
   "metadata": {},
   "outputs": [
    {
     "data": {
      "text/plain": [
       "Text(0.5, 1.0, 'Average Temperature vs Humidity')"
      ]
     },
     "execution_count": 14,
     "metadata": {},
     "output_type": "execute_result"
    },
    {
     "data": {
      "image/png": "[encoded data removed]",
      "text/plain": [
       "<Figure size 640x480 with 1 Axes>"
      ]
     },
     "metadata": {},
     "output_type": "display_data"
    }
   ],
   "source": [
    "# Draw a graph between average temperature and humidity\n",
    "plt.scatter(data_copy['avg_temperature'], data_copy['humidity'])\n",
    "plt.xlabel('Average Temperature')\n",
    "plt.ylabel('Humidity')\n",
    "plt.title('Average Temperature vs Humidity')"
   ]
  },
  {
   "cell_type": "markdown",
   "metadata": {},
   "source": [
    "There is high correlation between 'avg_temperature' and 'humidity'."
   ]
  },
  {
   "cell_type": "markdown",
   "metadata": {},
   "source": [
    "# Classification Models"
   ]
  },
  {
   "cell_type": "code",
   "execution_count": 15,
   "metadata": {},
   "outputs": [
    {
     "data": {
      "text/plain": [
       "((236, 5), (60, 5), (236,), (60,))"
      ]
     },
     "execution_count": 15,
     "metadata": {},
     "output_type": "execute_result"
    }
   ],
   "source": [
    "# Split the data sets into training and testing sets\n",
    "X = data_copy.drop('rain_or_not', axis=1)\n",
    "y = data_copy['rain_or_not']\n",
    "\n",
    "X_train, X_test, y_train, y_test = train_test_split(X, y, test_size=0.2, random_state=42)\n",
    "\n",
    "X_train.shape, X_test.shape, y_train.shape, y_test.shape\n"
   ]
  },
  {
   "cell_type": "code",
   "execution_count": 16,
   "metadata": {},
   "outputs": [
    {
     "data": {
      "text/html": [
       "<div>\n",
       "<style scoped>\n",
       "    .dataframe tbody tr th:only-of-type {\n",
       "        vertical-align: middle;\n",
       "    }\n",
       "\n",
       "    .dataframe tbody tr th {\n",
       "        vertical-align: top;\n",
       "    }\n",
       "\n",
       "    .dataframe thead th {\n",
       "        text-align: right;\n",
       "    }\n",
       "</style>\n",
       "<table border=\"1\" class=\"dataframe\">\n",
       "  <thead>\n",
       "    <tr style=\"text-align: right;\">\n",
       "      <th></th>\n",
       "      <th>avg_temperature</th>\n",
       "      <th>humidity</th>\n",
       "      <th>avg_wind_speed</th>\n",
       "      <th>cloud_cover</th>\n",
       "      <th>pressure</th>\n",
       "    </tr>\n",
       "  </thead>\n",
       "  <tbody>\n",
       "    <tr>\n",
       "      <th>70</th>\n",
       "      <td>22.722448</td>\n",
       "      <td>33.644798</td>\n",
       "      <td>9.100726</td>\n",
       "      <td>44.978465</td>\n",
       "      <td>1020.783510</td>\n",
       "    </tr>\n",
       "    <tr>\n",
       "      <th>20</th>\n",
       "      <td>34.778783</td>\n",
       "      <td>66.005954</td>\n",
       "      <td>5.023584</td>\n",
       "      <td>92.275719</td>\n",
       "      <td>956.895802</td>\n",
       "    </tr>\n",
       "    <tr>\n",
       "      <th>228</th>\n",
       "      <td>23.042613</td>\n",
       "      <td>39.985379</td>\n",
       "      <td>9.047282</td>\n",
       "      <td>55.508495</td>\n",
       "      <td>1041.807655</td>\n",
       "    </tr>\n",
       "    <tr>\n",
       "      <th>232</th>\n",
       "      <td>21.701672</td>\n",
       "      <td>36.863375</td>\n",
       "      <td>5.335091</td>\n",
       "      <td>35.538457</td>\n",
       "      <td>1041.077016</td>\n",
       "    </tr>\n",
       "    <tr>\n",
       "      <th>195</th>\n",
       "      <td>16.421028</td>\n",
       "      <td>31.225163</td>\n",
       "      <td>9.502173</td>\n",
       "      <td>65.616184</td>\n",
       "      <td>967.488144</td>\n",
       "    </tr>\n",
       "    <tr>\n",
       "      <th>...</th>\n",
       "      <td>...</td>\n",
       "      <td>...</td>\n",
       "      <td>...</td>\n",
       "      <td>...</td>\n",
       "      <td>...</td>\n",
       "    </tr>\n",
       "    <tr>\n",
       "      <th>200</th>\n",
       "      <td>17.760062</td>\n",
       "      <td>30.000000</td>\n",
       "      <td>7.885353</td>\n",
       "      <td>4.317374</td>\n",
       "      <td>1014.288191</td>\n",
       "    </tr>\n",
       "    <tr>\n",
       "      <th>79</th>\n",
       "      <td>15.000000</td>\n",
       "      <td>30.000000</td>\n",
       "      <td>1.869940</td>\n",
       "      <td>48.134415</td>\n",
       "      <td>996.229556</td>\n",
       "    </tr>\n",
       "    <tr>\n",
       "      <th>116</th>\n",
       "      <td>25.957604</td>\n",
       "      <td>41.602938</td>\n",
       "      <td>8.930775</td>\n",
       "      <td>46.147746</td>\n",
       "      <td>1002.332963</td>\n",
       "    </tr>\n",
       "    <tr>\n",
       "      <th>284</th>\n",
       "      <td>33.214250</td>\n",
       "      <td>64.672892</td>\n",
       "      <td>8.519178</td>\n",
       "      <td>8.860043</td>\n",
       "      <td>1010.192343</td>\n",
       "    </tr>\n",
       "    <tr>\n",
       "      <th>110</th>\n",
       "      <td>17.897515</td>\n",
       "      <td>35.348263</td>\n",
       "      <td>14.416055</td>\n",
       "      <td>68.813471</td>\n",
       "      <td>1015.678010</td>\n",
       "    </tr>\n",
       "  </tbody>\n",
       "</table>\n",
       "<p>236 rows × 5 columns</p>\n",
       "</div>"
      ],
      "text/plain": [
       "     avg_temperature   humidity  avg_wind_speed  cloud_cover     pressure\n",
       "70         22.722448  33.644798        9.100726    44.978465  1020.783510\n",
       "20         34.778783  66.005954        5.023584    92.275719   956.895802\n",
       "228        23.042613  39.985379        9.047282    55.508495  1041.807655\n",
       "232        21.701672  36.863375        5.335091    35.538457  1041.077016\n",
       "195        16.421028  31.225163        9.502173    65.616184   967.488144\n",
       "..               ...        ...             ...          ...          ...\n",
       "200        17.760062  30.000000        7.885353     4.317374  1014.288191\n",
       "79         15.000000  30.000000        1.869940    48.134415   996.229556\n",
       "116        25.957604  41.602938        8.930775    46.147746  1002.332963\n",
       "284        33.214250  64.672892        8.519178     8.860043  1010.192343\n",
       "110        17.897515  35.348263       14.416055    68.813471  1015.678010\n",
       "\n",
       "[236 rows x 5 columns]"
      ]
     },
     "execution_count": 16,
     "metadata": {},
     "output_type": "execute_result"
    }
   ],
   "source": [
    "X_train"
   ]
  },
  {
   "cell_type": "markdown",
   "metadata": {},
   "source": [
    "#### Logistic Regression"
   ]
  },
  {
   "cell_type": "code",
   "execution_count": 17,
   "metadata": {},
   "outputs": [
    {
     "data": {
      "text/plain": [
       "0.7166666666666667"
      ]
     },
     "execution_count": 17,
     "metadata": {},
     "output_type": "execute_result"
    }
   ],
   "source": [
    "from sklearn.linear_model import LogisticRegression\n",
    "from sklearn.metrics import accuracy_score\n",
    "\n",
    "log_reg = LogisticRegression()\n",
    "log_reg.fit(X_train, y_train)\n",
    "\n",
    "y_pred = log_reg.predict(X_test)\n",
    "\n",
    "accuracy_score(y_test, y_pred)"
   ]
  },
  {
   "cell_type": "markdown",
   "metadata": {},
   "source": [
    "#### Decision Tree"
   ]
  },
  {
   "cell_type": "code",
   "execution_count": 18,
   "metadata": {},
   "outputs": [
    {
     "data": {
      "text/plain": [
       "0.5"
      ]
     },
     "execution_count": 18,
     "metadata": {},
     "output_type": "execute_result"
    }
   ],
   "source": [
    "# Decision Tree Classifier\n",
    "from sklearn.tree import DecisionTreeClassifier\n",
    "\n",
    "dt = DecisionTreeClassifier()\n",
    "dt.fit(X_train, y_train)\n",
    "\n",
    "y_pred = dt.predict(X_test)\n",
    "\n",
    "accuracy_score(y_test, y_pred)"
   ]
  },
  {
   "cell_type": "markdown",
   "metadata": {},
   "source": [
    "#### Random Forest"
   ]
  },
  {
   "cell_type": "code",
   "execution_count": 19,
   "metadata": {},
   "outputs": [
    {
     "data": {
      "text/plain": [
       "0.6833333333333333"
      ]
     },
     "execution_count": 19,
     "metadata": {},
     "output_type": "execute_result"
    }
   ],
   "source": [
    "## Random Forest Classifier\n",
    "from sklearn.ensemble import RandomForestClassifier\n",
    "\n",
    "rf = RandomForestClassifier()\n",
    "rf.fit(X_train, y_train)\n",
    "\n",
    "y_pred = rf.predict(X_test)\n",
    "\n",
    "accuracy_score(y_test, y_pred)"
   ]
  },
  {
   "cell_type": "markdown",
   "metadata": {},
   "source": [
    "#### XGBoost"
   ]
  },
  {
   "cell_type": "code",
   "execution_count": 20,
   "metadata": {},
   "outputs": [
    {
     "data": {
      "text/plain": [
       "0.6666666666666666"
      ]
     },
     "execution_count": 20,
     "metadata": {},
     "output_type": "execute_result"
    }
   ],
   "source": [
    "from xgboost import XGBClassifier\n",
    "\n",
    "xgb = XGBClassifier()\n",
    "xgb.fit(X_train, y_train)\n",
    "\n",
    "y_pred = xgb.predict(X_test)\n",
    "\n",
    "accuracy_score(y_test, y_pred)"
   ]
  },
  {
   "cell_type": "markdown",
   "metadata": {},
   "source": [
    "#### Majority Voting"
   ]
  },
  {
   "cell_type": "code",
   "execution_count": 21,
   "metadata": {},
   "outputs": [
    {
     "data": {
      "text/plain": [
       "0.7166666666666667"
      ]
     },
     "execution_count": 21,
     "metadata": {},
     "output_type": "execute_result"
    }
   ],
   "source": [
    "# Implement majority voting\n",
    "from sklearn.ensemble import VotingClassifier\n",
    "\n",
    "voting_clf = VotingClassifier(estimators=[('lr', log_reg), ('rf', rf), ('xgb', xgb)], voting='hard')\n",
    "voting_clf.fit(X_train, y_train)\n",
    "\n",
    "y_pred = voting_clf.predict(X_test)\n",
    "\n",
    "accuracy_score(y_test, y_pred)"
   ]
  },
  {
   "cell_type": "markdown",
   "metadata": {},
   "source": [
    "# Box Plot Analysis"
   ]
  },
  {
   "cell_type": "code",
   "execution_count": 22,
   "metadata": {},
   "outputs": [
    {
     "data": {
      "text/plain": [
       "Text(0.5, 1.0, 'Box plot for Pressure')"
      ]
     },
     "execution_count": 22,
     "metadata": {},
     "output_type": "execute_result"
    },
    {
     "data": {
      "image/png": "[encoded data removed]",
      "text/plain": [
       "<Figure size 640x480 with 1 Axes>"
      ]
     },
     "metadata": {},
     "output_type": "display_data"
    }
   ],
   "source": [
    "# Creating box plot for pressure\n",
    "plt.boxplot(data_copy['pressure'])\n",
    "plt.title('Box plot for Pressure')"
   ]
  },
  {
   "cell_type": "code",
   "execution_count": 23,
   "metadata": {},
   "outputs": [
    {
     "data": {
      "text/plain": [
       "Text(0.5, 1.0, 'Box plot for Cloud Cover')"
      ]
     },
     "execution_count": 23,
     "metadata": {},
     "output_type": "execute_result"
    },
    {
     "data": {
      "image/png": "[encoded data removed]",
      "text/plain": [
       "<Figure size 640x480 with 1 Axes>"
      ]
     },
     "metadata": {},
     "output_type": "display_data"
    }
   ],
   "source": [
    "\n",
    "\n",
    "# Creating box plot for cloud cover sowing outliers\n",
    "plt.boxplot(data_copy['cloud_cover'])\n",
    "plt.title('Box plot for Cloud Cover')"
   ]
  },
  {
   "cell_type": "code",
   "execution_count": 24,
   "metadata": {},
   "outputs": [
    {
     "data": {
      "text/plain": [
       "Text(0.5, 1.0, 'Box plot for Wind Speed')"
      ]
     },
     "execution_count": 24,
     "metadata": {},
     "output_type": "execute_result"
    },
    {
     "data": {
      "image/png": "[encoded data removed]",
      "text/plain": [
       "<Figure size 640x480 with 1 Axes>"
      ]
     },
     "metadata": {},
     "output_type": "display_data"
    }
   ],
   "source": [
    "\n",
    "# Creating box plot for wind speed\n",
    "plt.boxplot(data_copy['avg_wind_speed'])\n",
    "\n",
    "plt.title('Box plot for Wind Speed')"
   ]
  },
  {
   "cell_type": "code",
   "execution_count": 25,
   "metadata": {},
   "outputs": [
    {
     "data": {
      "text/plain": [
       "Text(0.5, 1.0, 'Box plot for Humidity')"
      ]
     },
     "execution_count": 25,
     "metadata": {},
     "output_type": "execute_result"
    },
    {
     "data": {
      "image/png": "[encoded data removed]",
      "text/plain": [
       "<Figure size 640x480 with 1 Axes>"
      ]
     },
     "metadata": {},
     "output_type": "display_data"
    }
   ],
   "source": [
    "\n",
    "\n",
    "# Creating box plot for humidity\n",
    "plt.boxplot(data_copy['humidity'])\n",
    "plt.title('Box plot for Humidity')\n"
   ]
  },
  {
   "cell_type": "code",
   "execution_count": 26,
   "metadata": {},
   "outputs": [
    {
     "data": {
      "text/plain": [
       "Text(0.5, 1.0, 'Box plot for Average Temperature')"
      ]
     },
     "execution_count": 26,
     "metadata": {},
     "output_type": "execute_result"
    },
    {
     "data": {
      "image/png": "[encoded data removed]",
      "text/plain": [
       "<Figure size 640x480 with 1 Axes>"
      ]
     },
     "metadata": {},
     "output_type": "display_data"
    }
   ],
   "source": [
    "# Creating box plot for average temperature\n",
    "plt.boxplot(data_copy['avg_temperature'])\n",
    "plt.title('Box plot for Average Temperature')"
   ]
  },
  {
   "cell_type": "markdown",
   "metadata": {},
   "source": [
    "# Normalizing the features"
   ]
  },
  {
   "cell_type": "code",
   "execution_count": 27,
   "metadata": {},
   "outputs": [],
   "source": [
    "# Normalizing the data\n",
    "from sklearn.preprocessing import StandardScaler\n",
    "\n",
    "scaler = StandardScaler()\n",
    "\n",
    "X_train_scaled = scaler.fit_transform(X_train)\n",
    "\n",
    "X_test_scaled = scaler.transform(X_test)\n",
    "\n"
   ]
  },
  {
   "cell_type": "code",
   "execution_count": 28,
   "metadata": {},
   "outputs": [
    {
     "data": {
      "text/plain": [
       "array([[-0.49217204, -1.13287567,  0.27805742, -0.14181031,  0.6975542 ],\n",
       "       [ 1.28716125,  0.56836823, -0.45664597,  1.47458336, -1.51975981],\n",
       "       [-0.44492047, -0.79954777,  0.26842677,  0.2180557 ,  1.42722715],\n",
       "       ...,\n",
       "       [-0.01471178, -0.71451181,  0.24743224, -0.10184986,  0.05720167],\n",
       "       [ 1.05625972,  0.49828842,  0.17326225, -1.37616502,  0.32997266],\n",
       "       [-1.20425942, -1.04332354,  1.23588296,  0.67275606,  0.52036057]])"
      ]
     },
     "execution_count": 28,
     "metadata": {},
     "output_type": "execute_result"
    }
   ],
   "source": [
    "X_train_scaled"
   ]
  },
  {
   "cell_type": "code",
   "execution_count": 29,
   "metadata": {},
   "outputs": [
    {
     "data": {
      "text/plain": [
       "0.7166666666666667"
      ]
     },
     "execution_count": 29,
     "metadata": {},
     "output_type": "execute_result"
    }
   ],
   "source": [
    "# Logistic Regression\n",
    "log_reg = LogisticRegression()\n",
    "log_reg.fit(X_train_scaled, y_train)\n",
    "\n",
    "y_pred = log_reg.predict(X_test_scaled)\n",
    "\n",
    "accuracy_score(y_test, y_pred)"
   ]
  },
  {
   "cell_type": "code",
   "execution_count": 30,
   "metadata": {},
   "outputs": [
    {
     "data": {
      "text/plain": [
       "0.4666666666666667"
      ]
     },
     "execution_count": 30,
     "metadata": {},
     "output_type": "execute_result"
    }
   ],
   "source": [
    "# Decision Tree Classifier\n",
    "dt = DecisionTreeClassifier()\n",
    "dt.fit(X_train_scaled, y_train)\n",
    "\n",
    "y_pred = dt.predict(X_test_scaled)\n",
    "\n",
    "accuracy_score(y_test, y_pred)"
   ]
  },
  {
   "cell_type": "code",
   "execution_count": 31,
   "metadata": {},
   "outputs": [
    {
     "data": {
      "text/plain": [
       "0.6833333333333333"
      ]
     },
     "execution_count": 31,
     "metadata": {},
     "output_type": "execute_result"
    }
   ],
   "source": [
    "# Random Forest Classifier\n",
    "rf = RandomForestClassifier()\n",
    "rf.fit(X_train_scaled, y_train)\n",
    "\n",
    "y_pred = rf.predict(X_test_scaled)\n",
    "\n",
    "accuracy_score(y_test, y_pred)"
   ]
  },
  {
   "cell_type": "code",
   "execution_count": 32,
   "metadata": {},
   "outputs": [
    {
     "data": {
      "text/plain": [
       "0.6666666666666666"
      ]
     },
     "execution_count": 32,
     "metadata": {},
     "output_type": "execute_result"
    }
   ],
   "source": [
    "# XGBoost Classifier\n",
    "xgb = XGBClassifier()\n",
    "xgb.fit(X_train_scaled, y_train)\n",
    "\n",
    "y_pred = xgb.predict(X_test_scaled)\n",
    "\n",
    "accuracy_score(y_test, y_pred)"
   ]
  },
  {
   "cell_type": "code",
   "execution_count": 33,
   "metadata": {},
   "outputs": [
    {
     "data": {
      "text/plain": [
       "0.65"
      ]
     },
     "execution_count": 33,
     "metadata": {},
     "output_type": "execute_result"
    }
   ],
   "source": [
    "# Multi Layer Perceptron\n",
    "from sklearn.neural_network import MLPClassifier\n",
    "\n",
    "mlp = MLPClassifier(activation=\"relu\", max_iter=1000)\n",
    "mlp.fit(X_train_scaled, y_train)\n",
    "\n",
    "y_pred = mlp.predict(X_test_scaled)\n",
    "\n",
    "accuracy_score(y_test, y_pred)"
   ]
  },
  {
   "cell_type": "markdown",
   "metadata": {},
   "source": [
    "# Hyperparameter Tuning"
   ]
  },
  {
   "cell_type": "code",
   "execution_count": 38,
   "metadata": {},
   "outputs": [
    {
     "data": {
      "text/plain": [
       "{'C': 10, 'max_iter': 100, 'solver': 'liblinear'}"
      ]
     },
     "execution_count": 38,
     "metadata": {},
     "output_type": "execute_result"
    }
   ],
   "source": [
    "# Grid Search for Logistic Regression\n",
    "from sklearn.model_selection import GridSearchCV\n",
    "\n",
    "param_grid = {'C': [0.001, 0.01, 0.1, 1, 10, 100, 1000], 'max_iter': [100, 1000, 10000], 'solver': ['liblinear', 'newton-cholesky', 'sag', 'saga', 'lbfgs', 'newton-cg']}\n",
    "grid_search = GridSearchCV(log_reg, param_grid, cv=5)\n",
    "\n",
    "grid_search.fit(X_train_scaled, y_train)\n",
    "\n",
    "grid_search.best_params_\n",
    "\n",
    "\n",
    "\n",
    "\n",
    "\n"
   ]
  },
  {
   "cell_type": "code",
   "execution_count": 39,
   "metadata": {},
   "outputs": [
    {
     "data": {
      "text/plain": [
       "0.7166666666666667"
      ]
     },
     "execution_count": 39,
     "metadata": {},
     "output_type": "execute_result"
    }
   ],
   "source": [
    "y_pred = grid_search.predict(X_test_scaled)\n",
    "\n",
    "accuracy_score(y_test, y_pred)"
   ]
  },
  {
   "cell_type": "code",
   "execution_count": 36,
   "metadata": {},
   "outputs": [
    {
     "name": "stderr",
     "output_type": "stream",
     "text": [
      "C:\\Users\\gayka\\AppData\\Local\\Packages\\PythonSoftwareFoundation.Python.3.12_qbz5n2kfra8p0\\LocalCache\\local-packages\\Python312\\site-packages\\sklearn\\neural_network\\_multilayer_perceptron.py:690: ConvergenceWarning: Stochastic Optimizer: Maximum iterations (1000) reached and the optimization hasn't converged yet.\n",
      "  warnings.warn(\n",
      "C:\\Users\\gayka\\AppData\\Local\\Packages\\PythonSoftwareFoundation.Python.3.12_qbz5n2kfra8p0\\LocalCache\\local-packages\\Python312\\site-packages\\sklearn\\neural_network\\_multilayer_perceptron.py:690: ConvergenceWarning: Stochastic Optimizer: Maximum iterations (1000) reached and the optimization hasn't converged yet.\n",
      "  warnings.warn(\n",
      "C:\\Users\\gayka\\AppData\\Local\\Packages\\PythonSoftwareFoundation.Python.3.12_qbz5n2kfra8p0\\LocalCache\\local-packages\\Python312\\site-packages\\sklearn\\neural_network\\_multilayer_perceptron.py:690: ConvergenceWarning: Stochastic Optimizer: Maximum iterations (1000) reached and the optimization hasn't converged yet.\n",
      "  warnings.warn(\n",
      "C:\\Users\\gayka\\AppData\\Local\\Packages\\PythonSoftwareFoundation.Python.3.12_qbz5n2kfra8p0\\LocalCache\\local-packages\\Python312\\site-packages\\sklearn\\neural_network\\_multilayer_perceptron.py:690: ConvergenceWarning: Stochastic Optimizer: Maximum iterations (1000) reached and the optimization hasn't converged yet.\n",
      "  warnings.warn(\n",
      "C:\\Users\\gayka\\AppData\\Local\\Packages\\PythonSoftwareFoundation.Python.3.12_qbz5n2kfra8p0\\LocalCache\\local-packages\\Python312\\site-packages\\sklearn\\neural_network\\_multilayer_perceptron.py:690: ConvergenceWarning: Stochastic Optimizer: Maximum iterations (1000) reached and the optimization hasn't converged yet.\n",
      "  warnings.warn(\n",
      "C:\\Users\\gayka\\AppData\\Local\\Packages\\PythonSoftwareFoundation.Python.3.12_qbz5n2kfra8p0\\LocalCache\\local-packages\\Python312\\site-packages\\sklearn\\neural_network\\_multilayer_perceptron.py:690: ConvergenceWarning: Stochastic Optimizer: Maximum iterations (1000) reached and the optimization hasn't converged yet.\n",
      "  warnings.warn(\n",
      "C:\\Users\\gayka\\AppData\\Local\\Packages\\PythonSoftwareFoundation.Python.3.12_qbz5n2kfra8p0\\LocalCache\\local-packages\\Python312\\site-packages\\sklearn\\neural_network\\_multilayer_perceptron.py:545: ConvergenceWarning: lbfgs failed to converge (status=1):\n",
      "STOP: TOTAL NO. of ITERATIONS REACHED LIMIT.\n",
      "\n",
      "Increase the number of iterations (max_iter) or scale the data as shown in:\n",
      "    https://scikit-learn.org/stable/modules/preprocessing.html\n",
      "  self.n_iter_ = _check_optimize_result(\"lbfgs\", opt_res, self.max_iter)\n",
      "C:\\Users\\gayka\\AppData\\Local\\Packages\\PythonSoftwareFoundation.Python.3.12_qbz5n2kfra8p0\\LocalCache\\local-packages\\Python312\\site-packages\\sklearn\\neural_network\\_multilayer_perceptron.py:545: ConvergenceWarning: lbfgs failed to converge (status=1):\n",
      "STOP: TOTAL NO. of ITERATIONS REACHED LIMIT.\n",
      "\n",
      "Increase the number of iterations (max_iter) or scale the data as shown in:\n",
      "    https://scikit-learn.org/stable/modules/preprocessing.html\n",
      "  self.n_iter_ = _check_optimize_result(\"lbfgs\", opt_res, self.max_iter)\n",
      "C:\\Users\\gayka\\AppData\\Local\\Packages\\PythonSoftwareFoundation.Python.3.12_qbz5n2kfra8p0\\LocalCache\\local-packages\\Python312\\site-packages\\sklearn\\neural_network\\_multilayer_perceptron.py:545: ConvergenceWarning: lbfgs failed to converge (status=1):\n",
      "STOP: TOTAL NO. of ITERATIONS REACHED LIMIT.\n",
      "\n",
      "Increase the number of iterations (max_iter) or scale the data as shown in:\n",
      "    https://scikit-learn.org/stable/modules/preprocessing.html\n",
      "  self.n_iter_ = _check_optimize_result(\"lbfgs\", opt_res, self.max_iter)\n",
      "C:\\Users\\gayka\\AppData\\Local\\Packages\\PythonSoftwareFoundation.Python.3.12_qbz5n2kfra8p0\\LocalCache\\local-packages\\Python312\\site-packages\\sklearn\\neural_network\\_multilayer_perceptron.py:545: ConvergenceWarning: lbfgs failed to converge (status=1):\n",
      "STOP: TOTAL NO. of ITERATIONS REACHED LIMIT.\n",
      "\n",
      "Increase the number of iterations (max_iter) or scale the data as shown in:\n",
      "    https://scikit-learn.org/stable/modules/preprocessing.html\n",
      "  self.n_iter_ = _check_optimize_result(\"lbfgs\", opt_res, self.max_iter)\n",
      "C:\\Users\\gayka\\AppData\\Local\\Packages\\PythonSoftwareFoundation.Python.3.12_qbz5n2kfra8p0\\LocalCache\\local-packages\\Python312\\site-packages\\sklearn\\neural_network\\_multilayer_perceptron.py:545: ConvergenceWarning: lbfgs failed to converge (status=1):\n",
      "STOP: TOTAL NO. of ITERATIONS REACHED LIMIT.\n",
      "\n",
      "Increase the number of iterations (max_iter) or scale the data as shown in:\n",
      "    https://scikit-learn.org/stable/modules/preprocessing.html\n",
      "  self.n_iter_ = _check_optimize_result(\"lbfgs\", opt_res, self.max_iter)\n",
      "C:\\Users\\gayka\\AppData\\Local\\Packages\\PythonSoftwareFoundation.Python.3.12_qbz5n2kfra8p0\\LocalCache\\local-packages\\Python312\\site-packages\\sklearn\\neural_network\\_multilayer_perceptron.py:690: ConvergenceWarning: Stochastic Optimizer: Maximum iterations (1000) reached and the optimization hasn't converged yet.\n",
      "  warnings.warn(\n",
      "C:\\Users\\gayka\\AppData\\Local\\Packages\\PythonSoftwareFoundation.Python.3.12_qbz5n2kfra8p0\\LocalCache\\local-packages\\Python312\\site-packages\\sklearn\\neural_network\\_multilayer_perceptron.py:690: ConvergenceWarning: Stochastic Optimizer: Maximum iterations (1000) reached and the optimization hasn't converged yet.\n",
      "  warnings.warn(\n",
      "C:\\Users\\gayka\\AppData\\Local\\Packages\\PythonSoftwareFoundation.Python.3.12_qbz5n2kfra8p0\\LocalCache\\local-packages\\Python312\\site-packages\\sklearn\\neural_network\\_multilayer_perceptron.py:690: ConvergenceWarning: Stochastic Optimizer: Maximum iterations (1000) reached and the optimization hasn't converged yet.\n",
      "  warnings.warn(\n",
      "C:\\Users\\gayka\\AppData\\Local\\Packages\\PythonSoftwareFoundation.Python.3.12_qbz5n2kfra8p0\\LocalCache\\local-packages\\Python312\\site-packages\\sklearn\\neural_network\\_multilayer_perceptron.py:690: ConvergenceWarning: Stochastic Optimizer: Maximum iterations (1000) reached and the optimization hasn't converged yet.\n",
      "  warnings.warn(\n",
      "C:\\Users\\gayka\\AppData\\Local\\Packages\\PythonSoftwareFoundation.Python.3.12_qbz5n2kfra8p0\\LocalCache\\local-packages\\Python312\\site-packages\\sklearn\\neural_network\\_multilayer_perceptron.py:690: ConvergenceWarning: Stochastic Optimizer: Maximum iterations (1000) reached and the optimization hasn't converged yet.\n",
      "  warnings.warn(\n",
      "C:\\Users\\gayka\\AppData\\Local\\Packages\\PythonSoftwareFoundation.Python.3.12_qbz5n2kfra8p0\\LocalCache\\local-packages\\Python312\\site-packages\\sklearn\\neural_network\\_multilayer_perceptron.py:545: ConvergenceWarning: lbfgs failed to converge (status=1):\n",
      "STOP: TOTAL NO. of ITERATIONS REACHED LIMIT.\n",
      "\n",
      "Increase the number of iterations (max_iter) or scale the data as shown in:\n",
      "    https://scikit-learn.org/stable/modules/preprocessing.html\n",
      "  self.n_iter_ = _check_optimize_result(\"lbfgs\", opt_res, self.max_iter)\n",
      "C:\\Users\\gayka\\AppData\\Local\\Packages\\PythonSoftwareFoundation.Python.3.12_qbz5n2kfra8p0\\LocalCache\\local-packages\\Python312\\site-packages\\sklearn\\neural_network\\_multilayer_perceptron.py:545: ConvergenceWarning: lbfgs failed to converge (status=1):\n",
      "STOP: TOTAL NO. of ITERATIONS REACHED LIMIT.\n",
      "\n",
      "Increase the number of iterations (max_iter) or scale the data as shown in:\n",
      "    https://scikit-learn.org/stable/modules/preprocessing.html\n",
      "  self.n_iter_ = _check_optimize_result(\"lbfgs\", opt_res, self.max_iter)\n",
      "C:\\Users\\gayka\\AppData\\Local\\Packages\\PythonSoftwareFoundation.Python.3.12_qbz5n2kfra8p0\\LocalCache\\local-packages\\Python312\\site-packages\\sklearn\\neural_network\\_multilayer_perceptron.py:545: ConvergenceWarning: lbfgs failed to converge (status=1):\n",
      "STOP: TOTAL NO. of ITERATIONS REACHED LIMIT.\n",
      "\n",
      "Increase the number of iterations (max_iter) or scale the data as shown in:\n",
      "    https://scikit-learn.org/stable/modules/preprocessing.html\n",
      "  self.n_iter_ = _check_optimize_result(\"lbfgs\", opt_res, self.max_iter)\n",
      "C:\\Users\\gayka\\AppData\\Local\\Packages\\PythonSoftwareFoundation.Python.3.12_qbz5n2kfra8p0\\LocalCache\\local-packages\\Python312\\site-packages\\sklearn\\neural_network\\_multilayer_perceptron.py:545: ConvergenceWarning: lbfgs failed to converge (status=1):\n",
      "STOP: TOTAL NO. of ITERATIONS REACHED LIMIT.\n",
      "\n",
      "Increase the number of iterations (max_iter) or scale the data as shown in:\n",
      "    https://scikit-learn.org/stable/modules/preprocessing.html\n",
      "  self.n_iter_ = _check_optimize_result(\"lbfgs\", opt_res, self.max_iter)\n",
      "C:\\Users\\gayka\\AppData\\Local\\Packages\\PythonSoftwareFoundation.Python.3.12_qbz5n2kfra8p0\\LocalCache\\local-packages\\Python312\\site-packages\\sklearn\\neural_network\\_multilayer_perceptron.py:545: ConvergenceWarning: lbfgs failed to converge (status=1):\n",
      "STOP: TOTAL NO. of ITERATIONS REACHED LIMIT.\n",
      "\n",
      "Increase the number of iterations (max_iter) or scale the data as shown in:\n",
      "    https://scikit-learn.org/stable/modules/preprocessing.html\n",
      "  self.n_iter_ = _check_optimize_result(\"lbfgs\", opt_res, self.max_iter)\n",
      "C:\\Users\\gayka\\AppData\\Local\\Packages\\PythonSoftwareFoundation.Python.3.12_qbz5n2kfra8p0\\LocalCache\\local-packages\\Python312\\site-packages\\sklearn\\neural_network\\_multilayer_perceptron.py:690: ConvergenceWarning: Stochastic Optimizer: Maximum iterations (1000) reached and the optimization hasn't converged yet.\n",
      "  warnings.warn(\n",
      "C:\\Users\\gayka\\AppData\\Local\\Packages\\PythonSoftwareFoundation.Python.3.12_qbz5n2kfra8p0\\LocalCache\\local-packages\\Python312\\site-packages\\sklearn\\neural_network\\_multilayer_perceptron.py:690: ConvergenceWarning: Stochastic Optimizer: Maximum iterations (1000) reached and the optimization hasn't converged yet.\n",
      "  warnings.warn(\n",
      "C:\\Users\\gayka\\AppData\\Local\\Packages\\PythonSoftwareFoundation.Python.3.12_qbz5n2kfra8p0\\LocalCache\\local-packages\\Python312\\site-packages\\sklearn\\neural_network\\_multilayer_perceptron.py:690: ConvergenceWarning: Stochastic Optimizer: Maximum iterations (1000) reached and the optimization hasn't converged yet.\n",
      "  warnings.warn(\n",
      "C:\\Users\\gayka\\AppData\\Local\\Packages\\PythonSoftwareFoundation.Python.3.12_qbz5n2kfra8p0\\LocalCache\\local-packages\\Python312\\site-packages\\sklearn\\neural_network\\_multilayer_perceptron.py:690: ConvergenceWarning: Stochastic Optimizer: Maximum iterations (1000) reached and the optimization hasn't converged yet.\n",
      "  warnings.warn(\n",
      "C:\\Users\\gayka\\AppData\\Local\\Packages\\PythonSoftwareFoundation.Python.3.12_qbz5n2kfra8p0\\LocalCache\\local-packages\\Python312\\site-packages\\sklearn\\neural_network\\_multilayer_perceptron.py:690: ConvergenceWarning: Stochastic Optimizer: Maximum iterations (1000) reached and the optimization hasn't converged yet.\n",
      "  warnings.warn(\n"
     ]
    },
    {
     "data": {
      "text/plain": [
       "{'activation': 'identity', 'alpha': 0.1, 'solver': 'lbfgs'}"
      ]
     },
     "execution_count": 36,
     "metadata": {},
     "output_type": "execute_result"
    }
   ],
   "source": [
    "# Grid Search for MLP Classifier\n",
    "parameter_grid = {'activation' : ['identity', 'logistic', 'tanh', 'relu'],\n",
    "                   'solver' : ['lbfgs', 'sgd', 'adam'],\n",
    "                   'alpha' : [0.0001,0.1,0.01]}\n",
    "\n",
    "grid_search = GridSearchCV(mlp, parameter_grid, cv=5)\n",
    "\n",
    "grid_search.fit(X_train_scaled, y_train)\n",
    "\n",
    "grid_search.best_params_\n",
    "                  "
   ]
  },
  {
   "cell_type": "code",
   "execution_count": 37,
   "metadata": {},
   "outputs": [
    {
     "data": {
      "text/plain": [
       "0.7166666666666667"
      ]
     },
     "execution_count": 37,
     "metadata": {},
     "output_type": "execute_result"
    }
   ],
   "source": [
    "y_pred = grid_search.predict(X_test_scaled)\n",
    "\n",
    "accuracy_score(y_test, y_pred)"
   ]
  },
  {
   "cell_type": "markdown",
   "metadata": {},
   "source": [
    "# Time Series Forecasting"
   ]
  },
  {
   "cell_type": "code",
   "execution_count": 40,
   "metadata": {},
   "outputs": [
    {
     "data": {
      "text/html": [
       "<div>\n",
       "<style scoped>\n",
       "    .dataframe tbody tr th:only-of-type {\n",
       "        vertical-align: middle;\n",
       "    }\n",
       "\n",
       "    .dataframe tbody tr th {\n",
       "        vertical-align: top;\n",
       "    }\n",
       "\n",
       "    .dataframe thead th {\n",
       "        text-align: right;\n",
       "    }\n",
       "</style>\n",
       "<table border=\"1\" class=\"dataframe\">\n",
       "  <thead>\n",
       "    <tr style=\"text-align: right;\">\n",
       "      <th></th>\n",
       "      <th>date</th>\n",
       "      <th>avg_temperature</th>\n",
       "      <th>humidity</th>\n",
       "      <th>avg_wind_speed</th>\n",
       "      <th>rain_or_not</th>\n",
       "      <th>cloud_cover</th>\n",
       "      <th>pressure</th>\n",
       "    </tr>\n",
       "  </thead>\n",
       "  <tbody>\n",
       "    <tr>\n",
       "      <th>0</th>\n",
       "      <td>2023-01-01</td>\n",
       "      <td>23.745401</td>\n",
       "      <td>46.140905</td>\n",
       "      <td>7.845981</td>\n",
       "      <td>1</td>\n",
       "      <td>20.851051</td>\n",
       "      <td>992.965681</td>\n",
       "    </tr>\n",
       "    <tr>\n",
       "      <th>1</th>\n",
       "      <td>2023-01-02</td>\n",
       "      <td>30.030503</td>\n",
       "      <td>59.876587</td>\n",
       "      <td>5.382457</td>\n",
       "      <td>1</td>\n",
       "      <td>93.059521</td>\n",
       "      <td>1037.273025</td>\n",
       "    </tr>\n",
       "    <tr>\n",
       "      <th>2</th>\n",
       "      <td>2023-01-03</td>\n",
       "      <td>28.365224</td>\n",
       "      <td>51.464618</td>\n",
       "      <td>13.158008</td>\n",
       "      <td>1</td>\n",
       "      <td>11.636640</td>\n",
       "      <td>1034.193357</td>\n",
       "    </tr>\n",
       "    <tr>\n",
       "      <th>3</th>\n",
       "      <td>2023-01-04</td>\n",
       "      <td>27.550929</td>\n",
       "      <td>53.103799</td>\n",
       "      <td>5.886677</td>\n",
       "      <td>1</td>\n",
       "      <td>81.744971</td>\n",
       "      <td>968.610142</td>\n",
       "    </tr>\n",
       "    <tr>\n",
       "      <th>4</th>\n",
       "      <td>2023-01-05</td>\n",
       "      <td>23.639303</td>\n",
       "      <td>57.826186</td>\n",
       "      <td>12.248992</td>\n",
       "      <td>1</td>\n",
       "      <td>38.062329</td>\n",
       "      <td>1030.264331</td>\n",
       "    </tr>\n",
       "    <tr>\n",
       "      <th>...</th>\n",
       "      <td>...</td>\n",
       "      <td>...</td>\n",
       "      <td>...</td>\n",
       "      <td>...</td>\n",
       "      <td>...</td>\n",
       "      <td>...</td>\n",
       "      <td>...</td>\n",
       "    </tr>\n",
       "    <tr>\n",
       "      <th>306</th>\n",
       "      <td>2023-11-03</td>\n",
       "      <td>22.072834</td>\n",
       "      <td>37.756910</td>\n",
       "      <td>4.729355</td>\n",
       "      <td>0</td>\n",
       "      <td>27.307081</td>\n",
       "      <td>954.564875</td>\n",
       "    </tr>\n",
       "    <tr>\n",
       "      <th>307</th>\n",
       "      <td>2023-11-04</td>\n",
       "      <td>19.645885</td>\n",
       "      <td>42.190604</td>\n",
       "      <td>8.092369</td>\n",
       "      <td>0</td>\n",
       "      <td>51.807877</td>\n",
       "      <td>964.002410</td>\n",
       "    </tr>\n",
       "    <tr>\n",
       "      <th>308</th>\n",
       "      <td>2023-11-05</td>\n",
       "      <td>23.884496</td>\n",
       "      <td>36.205508</td>\n",
       "      <td>11.860847</td>\n",
       "      <td>1</td>\n",
       "      <td>29.872557</td>\n",
       "      <td>977.681431</td>\n",
       "    </tr>\n",
       "    <tr>\n",
       "      <th>309</th>\n",
       "      <td>2023-11-06</td>\n",
       "      <td>18.168418</td>\n",
       "      <td>34.785000</td>\n",
       "      <td>4.781288</td>\n",
       "      <td>0</td>\n",
       "      <td>94.067925</td>\n",
       "      <td>1047.153269</td>\n",
       "    </tr>\n",
       "    <tr>\n",
       "      <th>310</th>\n",
       "      <td>2023-11-07</td>\n",
       "      <td>19.389714</td>\n",
       "      <td>37.717416</td>\n",
       "      <td>9.388371</td>\n",
       "      <td>0</td>\n",
       "      <td>25.929676</td>\n",
       "      <td>983.134701</td>\n",
       "    </tr>\n",
       "  </tbody>\n",
       "</table>\n",
       "<p>311 rows × 7 columns</p>\n",
       "</div>"
      ],
      "text/plain": [
       "           date  avg_temperature   humidity  avg_wind_speed  rain_or_not  \\\n",
       "0    2023-01-01        23.745401  46.140905        7.845981            1   \n",
       "1    2023-01-02        30.030503  59.876587        5.382457            1   \n",
       "2    2023-01-03        28.365224  51.464618       13.158008            1   \n",
       "3    2023-01-04        27.550929  53.103799        5.886677            1   \n",
       "4    2023-01-05        23.639303  57.826186       12.248992            1   \n",
       "..          ...              ...        ...             ...          ...   \n",
       "306  2023-11-03        22.072834  37.756910        4.729355            0   \n",
       "307  2023-11-04        19.645885  42.190604        8.092369            0   \n",
       "308  2023-11-05        23.884496  36.205508       11.860847            1   \n",
       "309  2023-11-06        18.168418  34.785000        4.781288            0   \n",
       "310  2023-11-07        19.389714  37.717416        9.388371            0   \n",
       "\n",
       "     cloud_cover     pressure  \n",
       "0      20.851051   992.965681  \n",
       "1      93.059521  1037.273025  \n",
       "2      11.636640  1034.193357  \n",
       "3      81.744971   968.610142  \n",
       "4      38.062329  1030.264331  \n",
       "..           ...          ...  \n",
       "306    27.307081   954.564875  \n",
       "307    51.807877   964.002410  \n",
       "308    29.872557   977.681431  \n",
       "309    94.067925  1047.153269  \n",
       "310    25.929676   983.134701  \n",
       "\n",
       "[311 rows x 7 columns]"
      ]
     },
     "execution_count": 40,
     "metadata": {},
     "output_type": "execute_result"
    }
   ],
   "source": [
    "data"
   ]
  },
  {
   "cell_type": "code",
   "execution_count": 41,
   "metadata": {},
   "outputs": [],
   "source": [
    "data.dropna(inplace=True)"
   ]
  },
  {
   "cell_type": "code",
   "execution_count": 42,
   "metadata": {},
   "outputs": [
    {
     "data": {
      "text/plain": [
       "(296, 7)"
      ]
     },
     "execution_count": 42,
     "metadata": {},
     "output_type": "execute_result"
    }
   ],
   "source": [
    "data.shape"
   ]
  },
  {
   "cell_type": "code",
   "execution_count": 43,
   "metadata": {},
   "outputs": [],
   "source": [
    "data.drop('rain_or_not', axis=1, inplace=True)"
   ]
  },
  {
   "cell_type": "code",
   "execution_count": 45,
   "metadata": {},
   "outputs": [
    {
     "data": {
      "text/html": [
       "<div>\n",
       "<style scoped>\n",
       "    .dataframe tbody tr th:only-of-type {\n",
       "        vertical-align: middle;\n",
       "    }\n",
       "\n",
       "    .dataframe tbody tr th {\n",
       "        vertical-align: top;\n",
       "    }\n",
       "\n",
       "    .dataframe thead th {\n",
       "        text-align: right;\n",
       "    }\n",
       "</style>\n",
       "<table border=\"1\" class=\"dataframe\">\n",
       "  <thead>\n",
       "    <tr style=\"text-align: right;\">\n",
       "      <th></th>\n",
       "      <th>date</th>\n",
       "      <th>avg_temperature</th>\n",
       "      <th>humidity</th>\n",
       "      <th>avg_wind_speed</th>\n",
       "      <th>cloud_cover</th>\n",
       "      <th>pressure</th>\n",
       "    </tr>\n",
       "  </thead>\n",
       "  <tbody>\n",
       "    <tr>\n",
       "      <th>0</th>\n",
       "      <td>2023-01-01</td>\n",
       "      <td>23.745401</td>\n",
       "      <td>46.140905</td>\n",
       "      <td>7.845981</td>\n",
       "      <td>20.851051</td>\n",
       "      <td>992.965681</td>\n",
       "    </tr>\n",
       "    <tr>\n",
       "      <th>1</th>\n",
       "      <td>2023-01-02</td>\n",
       "      <td>30.030503</td>\n",
       "      <td>59.876587</td>\n",
       "      <td>5.382457</td>\n",
       "      <td>93.059521</td>\n",
       "      <td>1037.273025</td>\n",
       "    </tr>\n",
       "    <tr>\n",
       "      <th>2</th>\n",
       "      <td>2023-01-03</td>\n",
       "      <td>28.365224</td>\n",
       "      <td>51.464618</td>\n",
       "      <td>13.158008</td>\n",
       "      <td>11.636640</td>\n",
       "      <td>1034.193357</td>\n",
       "    </tr>\n",
       "    <tr>\n",
       "      <th>3</th>\n",
       "      <td>2023-01-04</td>\n",
       "      <td>27.550929</td>\n",
       "      <td>53.103799</td>\n",
       "      <td>5.886677</td>\n",
       "      <td>81.744971</td>\n",
       "      <td>968.610142</td>\n",
       "    </tr>\n",
       "    <tr>\n",
       "      <th>4</th>\n",
       "      <td>2023-01-05</td>\n",
       "      <td>23.639303</td>\n",
       "      <td>57.826186</td>\n",
       "      <td>12.248992</td>\n",
       "      <td>38.062329</td>\n",
       "      <td>1030.264331</td>\n",
       "    </tr>\n",
       "    <tr>\n",
       "      <th>...</th>\n",
       "      <td>...</td>\n",
       "      <td>...</td>\n",
       "      <td>...</td>\n",
       "      <td>...</td>\n",
       "      <td>...</td>\n",
       "      <td>...</td>\n",
       "    </tr>\n",
       "    <tr>\n",
       "      <th>306</th>\n",
       "      <td>2023-11-03</td>\n",
       "      <td>22.072834</td>\n",
       "      <td>37.756910</td>\n",
       "      <td>4.729355</td>\n",
       "      <td>27.307081</td>\n",
       "      <td>954.564875</td>\n",
       "    </tr>\n",
       "    <tr>\n",
       "      <th>307</th>\n",
       "      <td>2023-11-04</td>\n",
       "      <td>19.645885</td>\n",
       "      <td>42.190604</td>\n",
       "      <td>8.092369</td>\n",
       "      <td>51.807877</td>\n",
       "      <td>964.002410</td>\n",
       "    </tr>\n",
       "    <tr>\n",
       "      <th>308</th>\n",
       "      <td>2023-11-05</td>\n",
       "      <td>23.884496</td>\n",
       "      <td>36.205508</td>\n",
       "      <td>11.860847</td>\n",
       "      <td>29.872557</td>\n",
       "      <td>977.681431</td>\n",
       "    </tr>\n",
       "    <tr>\n",
       "      <th>309</th>\n",
       "      <td>2023-11-06</td>\n",
       "      <td>18.168418</td>\n",
       "      <td>34.785000</td>\n",
       "      <td>4.781288</td>\n",
       "      <td>94.067925</td>\n",
       "      <td>1047.153269</td>\n",
       "    </tr>\n",
       "    <tr>\n",
       "      <th>310</th>\n",
       "      <td>2023-11-07</td>\n",
       "      <td>19.389714</td>\n",
       "      <td>37.717416</td>\n",
       "      <td>9.388371</td>\n",
       "      <td>25.929676</td>\n",
       "      <td>983.134701</td>\n",
       "    </tr>\n",
       "  </tbody>\n",
       "</table>\n",
       "<p>296 rows × 6 columns</p>\n",
       "</div>"
      ],
      "text/plain": [
       "           date  avg_temperature   humidity  avg_wind_speed  cloud_cover  \\\n",
       "0    2023-01-01        23.745401  46.140905        7.845981    20.851051   \n",
       "1    2023-01-02        30.030503  59.876587        5.382457    93.059521   \n",
       "2    2023-01-03        28.365224  51.464618       13.158008    11.636640   \n",
       "3    2023-01-04        27.550929  53.103799        5.886677    81.744971   \n",
       "4    2023-01-05        23.639303  57.826186       12.248992    38.062329   \n",
       "..          ...              ...        ...             ...          ...   \n",
       "306  2023-11-03        22.072834  37.756910        4.729355    27.307081   \n",
       "307  2023-11-04        19.645885  42.190604        8.092369    51.807877   \n",
       "308  2023-11-05        23.884496  36.205508       11.860847    29.872557   \n",
       "309  2023-11-06        18.168418  34.785000        4.781288    94.067925   \n",
       "310  2023-11-07        19.389714  37.717416        9.388371    25.929676   \n",
       "\n",
       "        pressure  \n",
       "0     992.965681  \n",
       "1    1037.273025  \n",
       "2    1034.193357  \n",
       "3     968.610142  \n",
       "4    1030.264331  \n",
       "..           ...  \n",
       "306   954.564875  \n",
       "307   964.002410  \n",
       "308   977.681431  \n",
       "309  1047.153269  \n",
       "310   983.134701  \n",
       "\n",
       "[296 rows x 6 columns]"
      ]
     },
     "execution_count": 45,
     "metadata": {},
     "output_type": "execute_result"
    }
   ],
   "source": [
    "data"
   ]
  },
  {
   "cell_type": "code",
   "execution_count": 46,
   "metadata": {},
   "outputs": [
    {
     "data": {
      "text/plain": [
       "((270, 6), (26, 6))"
      ]
     },
     "execution_count": 46,
     "metadata": {},
     "output_type": "execute_result"
    }
   ],
   "source": [
    "# Separate the first 270 rows for training\n",
    "X_train = data.iloc[:270, :]\n",
    "X_test = data.iloc[270:, :]\n",
    "X_train.shape, X_test.shape"
   ]
  },
  {
   "cell_type": "markdown",
   "metadata": {},
   "source": [
    "### Average Temperature"
   ]
  },
  {
   "cell_type": "code",
   "execution_count": 47,
   "metadata": {},
   "outputs": [
    {
     "data": {
      "text/plain": [
       "0      23.745401\n",
       "1      30.030503\n",
       "2      28.365224\n",
       "3      27.550929\n",
       "4      23.639303\n",
       "         ...    \n",
       "278    35.000000\n",
       "280    35.000000\n",
       "281    31.766657\n",
       "282    31.845999\n",
       "283    28.711279\n",
       "Name: avg_temperature, Length: 270, dtype: float64"
      ]
     },
     "execution_count": 47,
     "metadata": {},
     "output_type": "execute_result"
    }
   ],
   "source": [
    "temp_train = X_train['avg_temperature']\n",
    "temp_test = X_test['avg_temperature']\n",
    "\n",
    "temp_train"
   ]
  },
  {
   "cell_type": "code",
   "execution_count": 50,
   "metadata": {},
   "outputs": [
    {
     "name": "stdout",
     "output_type": "stream",
     "text": [
      "                               SARIMAX Results                                \n",
      "==============================================================================\n",
      "Dep. Variable:        avg_temperature   No. Observations:                  270\n",
      "Model:                 ARIMA(5, 1, 0)   Log Likelihood                -672.687\n",
      "Date:                Sat, 08 Mar 2025   AIC                           1357.373\n",
      "Time:                        18:28:58   BIC                           1378.942\n",
      "Sample:                             0   HQIC                          1366.035\n",
      "                                - 270                                         \n",
      "Covariance Type:                  opg                                         \n",
      "==============================================================================\n",
      "                 coef    std err          z      P>|z|      [0.025      0.975]\n",
      "------------------------------------------------------------------------------\n",
      "ar.L1         -0.6876      0.056    -12.289      0.000      -0.797      -0.578\n",
      "ar.L2         -0.4625      0.064     -7.207      0.000      -0.588      -0.337\n",
      "ar.L3         -0.3190      0.068     -4.697      0.000      -0.452      -0.186\n",
      "ar.L4         -0.1940      0.066     -2.922      0.003      -0.324      -0.064\n",
      "ar.L5         -0.0427      0.054     -0.794      0.427      -0.148       0.063\n",
      "sigma2         8.6811      0.790     10.991      0.000       7.133      10.229\n",
      "===================================================================================\n",
      "Ljung-Box (L1) (Q):                   0.00   Jarque-Bera (JB):                 0.72\n",
      "Prob(Q):                              1.00   Prob(JB):                         0.70\n",
      "Heteroskedasticity (H):               0.82   Skew:                             0.09\n",
      "Prob(H) (two-sided):                  0.35   Kurtosis:                         2.83\n",
      "===================================================================================\n",
      "\n",
      "Warnings:\n",
      "[1] Covariance matrix calculated using the outer product of gradients (complex-step).\n"
     ]
    },
    {
     "name": "stderr",
     "output_type": "stream",
     "text": [
      "C:\\Users\\gayka\\AppData\\Local\\Packages\\PythonSoftwareFoundation.Python.3.12_qbz5n2kfra8p0\\LocalCache\\local-packages\\Python312\\site-packages\\statsmodels\\tsa\\base\\tsa_model.py:473: ValueWarning: An unsupported index was provided and will be ignored when e.g. forecasting.\n",
      "  self._init_dates(dates, freq)\n"
     ]
    }
   ],
   "source": [
    "from statsmodels.tsa.arima.model import ARIMA\n",
    "\n",
    "model = ARIMA(temp_train, order=(5, 1, 0))\n",
    "model_fit = model.fit()\n",
    "print(model_fit.summary())\n",
    "\n"
   ]
  },
  {
   "cell_type": "code",
   "execution_count": null,
   "metadata": {},
   "outputs": [],
   "source": [
    "forecast = model_fit.forecast(steps=30)[0]\n",
    "\n",
    "forecast"
   ]
  }
 ],
 "metadata": {
  "kernelspec": {
   "display_name": "Python 3",
   "language": "python",
   "name": "python3"
  },
  "language_info": {
   "codemirror_mode": {
    "name": "ipython",
    "version": 3
   },
   "file_extension": ".py",
   "mimetype": "text/x-python",
   "name": "python",
   "nbconvert_exporter": "python",
   "pygments_lexer": "ipython3",
   "version": "3.12.9"
  }
 },
 "nbformat": 4,
 "nbformat_minor": 2
}
